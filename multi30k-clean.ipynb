{
 "cells": [
  {
   "cell_type": "code",
   "execution_count": 1,
   "metadata": {},
   "outputs": [],
   "source": [
    "from comet_ml import Experiment\n",
    "import torch\n",
    "import torch.nn as nn\n",
    "import torch.optim as optim\n",
    "import torch.nn.functional as F\n",
    "import importlib\n",
    "import utils\n",
    "importlib.reload(utils)\n",
    "from utils import DataLoader, load_data, load_model, print_performances, bleu_fromdatalist\n",
    "from train import train_epoch, eval_epoch\n",
    "import sentencepiece as spm\n",
    "from tqdm import tqdm\n",
    "from model import Transformer\n",
    "import Constant as Constant\n",
    "import time\n",
    "device = torch.device(\"cuda\" if torch.cuda.is_available() else \"cpu\")"
   ]
  },
  {
   "cell_type": "code",
   "execution_count": 2,
   "metadata": {},
   "outputs": [
    {
     "name": "stderr",
     "output_type": "stream",
     "text": [
      "COMET INFO: Experiment is live on comet.ml https://www.comet.ml/sosuke115/transformer-deen-multi30k/bc62f125f06f4293ab1902c1b6859fbc\n",
      "\n"
     ]
    }
   ],
   "source": [
    "experiment = Experiment(api_key='tG1tXUexkJuIlhnNFNCzg4JxO',project_name=\"transformer_deen_multi30k\")"
   ]
  },
  {
   "cell_type": "code",
   "execution_count": 3,
   "metadata": {},
   "outputs": [],
   "source": [
    "sp = spm.SentencePieceProcessor(model_file='8k_sp.model')"
   ]
  },
  {
   "cell_type": "code",
   "execution_count": 4,
   "metadata": {},
   "outputs": [],
   "source": [
    "vocabs = [[sp.id_to_piece(idx), idx] for idx in range(sp.get_piece_size())]"
   ]
  },
  {
   "cell_type": "code",
   "execution_count": 5,
   "metadata": {},
   "outputs": [
    {
     "name": "stderr",
     "output_type": "stream",
     "text": [
      "29000it [00:01, 19684.48it/s]\n",
      "1014it [00:00, 20424.75it/s]\n",
      "1000it [00:00, 9452.49it/s]\n"
     ]
    }
   ],
   "source": [
    "train_X, train_Y = load_data(\"multi30k/train.de.tok\", \"multi30k/train.en.tok\", sp)\n",
    "valid_X, valid_Y = load_data(\"multi30k/val.de.tok\", \"multi30k/val.en.tok\", sp)\n",
    "test_X, test_Y = load_data(\"multi30k/test2016.de.tok\", \"multi30k/test2016.en.tok\", sp)"
   ]
  },
  {
   "cell_type": "code",
   "execution_count": 6,
   "metadata": {},
   "outputs": [],
   "source": [
    "# Training hyperparameters\n",
    "num_epochs = 30\n",
    "learning_rate = 3e-4\n",
    "batch_size = 32\n",
    "gradient_accumulation_steps = 1\n",
    "\n",
    "# Model hyperparameters\n",
    "\n",
    "model_args = {\n",
    "    \"embedding_size\": 512,\n",
    "    'src_vocab_size': len(vocabs),\n",
    "    'tgt_vocab_size': len(vocabs),\n",
    "    \"src_pad_idx\" : Constant.PAD,\n",
    "    'num_heads': 8,\n",
    "    'num_encoder_layers': 3,\n",
    "    'num_decoder_layers': 3,\n",
    "    \"forward_expansion\": 4,\n",
    "    'dropout': 0.1,\n",
    "    \"max_len\" : 100,\n",
    "    \"device\" : device\n",
    "}"
   ]
  },
  {
   "cell_type": "code",
   "execution_count": 7,
   "metadata": {},
   "outputs": [],
   "source": [
    "model = Transformer(\n",
    "    model_args[\"embedding_size\"],\n",
    "    model_args[\"src_vocab_size\"],\n",
    "    model_args[\"tgt_vocab_size\"],\n",
    "    model_args[\"src_pad_idx\"],\n",
    "    model_args[\"num_heads\"],\n",
    "    model_args[\"num_encoder_layers\"],\n",
    "    model_args[\"num_decoder_layers\"],\n",
    "    model_args[\"forward_expansion\"],\n",
    "    model_args[\"dropout\"],\n",
    "    model_args[\"max_len\"],\n",
    "    model_args[\"device\"],\n",
    ").to(device)\n",
    "\n",
    "optimizer = optim.Adam(model.parameters(), lr=learning_rate)\n",
    "\n",
    "scheduler = torch.optim.lr_scheduler.ReduceLROnPlateau(\n",
    "    optimizer, factor=0.1, patience=10, verbose=True\n",
    ")"
   ]
  },
  {
   "cell_type": "code",
   "execution_count": 8,
   "metadata": {},
   "outputs": [],
   "source": [
    "train_dataloader = DataLoader(\n",
    "    train_X, train_Y, batch_size, device\n",
    "    )\n",
    "valid_dataloader = DataLoader(\n",
    "    valid_X, valid_Y, batch_size, device,\n",
    "    shuffle=False\n",
    "    )"
   ]
  },
  {
   "cell_type": "code",
   "execution_count": 9,
   "metadata": {},
   "outputs": [
    {
     "name": "stderr",
     "output_type": "stream",
     "text": [
      "  - (Training)   : 0it [00:00, ?it/s]"
     ]
    },
    {
     "name": "stdout",
     "output_type": "stream",
     "text": [
      "[ Epoch 0 ]\n"
     ]
    },
    {
     "name": "stderr",
     "output_type": "stream",
     "text": [
      "  - (Validation) : 0it [00:00, ?it/s]      "
     ]
    },
    {
     "name": "stdout",
     "output_type": "stream",
     "text": [
      "  - (Training)   ppl:  29.11856, accuracy: 43.798 %, elapse: 0.848 min\n"
     ]
    },
    {
     "name": "stderr",
     "output_type": "stream",
     "text": [
      "                                     \r"
     ]
    },
    {
     "name": "stdout",
     "output_type": "stream",
     "text": [
      "  - (Validation) ppl:  12.97707, accuracy: 54.100 %, elapse: 0.009 min\n"
     ]
    },
    {
     "name": "stderr",
     "output_type": "stream",
     "text": [
      "  - (Training)   : 0it [00:00, ?it/s]"
     ]
    },
    {
     "name": "stdout",
     "output_type": "stream",
     "text": [
      "    - [Info] The checkpoint file has been updated.\n",
      "{'Train. Loss': 3.3713757377484606, 'Train. Acc': 0.43798497647326906, 'Valid. Loss': 2.5631837382970337, 'Valid. Acc': 0.5409955665301083}\n",
      "[ Epoch 1 ]\n"
     ]
    },
    {
     "name": "stderr",
     "output_type": "stream",
     "text": [
      "  - (Validation) : 0it [00:00, ?it/s]      "
     ]
    },
    {
     "name": "stdout",
     "output_type": "stream",
     "text": [
      "  - (Training)   ppl:  10.67337, accuracy: 56.059 %, elapse: 0.965 min\n"
     ]
    },
    {
     "name": "stderr",
     "output_type": "stream",
     "text": [
      "                                     \r"
     ]
    },
    {
     "name": "stdout",
     "output_type": "stream",
     "text": [
      "  - (Validation) ppl:  8.10306, accuracy: 60.671 %, elapse: 0.008 min\n"
     ]
    },
    {
     "name": "stderr",
     "output_type": "stream",
     "text": [
      "  - (Training)   : 0it [00:00, ?it/s]"
     ]
    },
    {
     "name": "stdout",
     "output_type": "stream",
     "text": [
      "    - [Info] The checkpoint file has been updated.\n",
      "{'Train. Loss': 2.3677518968291142, 'Train. Acc': 0.5605918262100176, 'Valid. Loss': 2.0922411824391274, 'Valid. Acc': 0.6067119366967844}\n",
      "[ Epoch 2 ]\n"
     ]
    },
    {
     "name": "stderr",
     "output_type": "stream",
     "text": [
      "  - (Validation) : 0it [00:00, ?it/s]      "
     ]
    },
    {
     "name": "stdout",
     "output_type": "stream",
     "text": [
      "  - (Training)   ppl:  7.13497, accuracy: 61.133 %, elapse: 1.023 min\n"
     ]
    },
    {
     "name": "stderr",
     "output_type": "stream",
     "text": [
      "                                     \r"
     ]
    },
    {
     "name": "stdout",
     "output_type": "stream",
     "text": [
      "  - (Validation) ppl:  6.57518, accuracy: 63.926 %, elapse: 0.007 min\n"
     ]
    },
    {
     "name": "stderr",
     "output_type": "stream",
     "text": [
      "  - (Training)   : 0it [00:00, ?it/s]"
     ]
    },
    {
     "name": "stdout",
     "output_type": "stream",
     "text": [
      "    - [Info] The checkpoint file has been updated.\n",
      "{'Train. Loss': 1.9650087092090998, 'Train. Acc': 0.6113272114527406, 'Valid. Loss': 1.8833016546977155, 'Valid. Acc': 0.6392614624838655}\n",
      "[ Epoch 3 ]\n"
     ]
    },
    {
     "name": "stderr",
     "output_type": "stream",
     "text": [
      "  - (Validation) : 0it [00:00, ?it/s]      "
     ]
    },
    {
     "name": "stdout",
     "output_type": "stream",
     "text": [
      "  - (Training)   ppl:  5.53263, accuracy: 64.401 %, elapse: 0.802 min\n"
     ]
    },
    {
     "name": "stderr",
     "output_type": "stream",
     "text": [
      "                                     \r"
     ]
    },
    {
     "name": "stdout",
     "output_type": "stream",
     "text": [
      "  - (Validation) ppl:  5.73821, accuracy: 65.963 %, elapse: 0.007 min\n"
     ]
    },
    {
     "name": "stderr",
     "output_type": "stream",
     "text": [
      "  - (Training)   : 0it [00:00, ?it/s]"
     ]
    },
    {
     "name": "stdout",
     "output_type": "stream",
     "text": [
      "    - [Info] The checkpoint file has been updated.\n",
      "{'Train. Loss': 1.7106635863720518, 'Train. Acc': 0.6440147756665241, 'Valid. Loss': 1.747148015093834, 'Valid. Acc': 0.6596329760368146}\n",
      "[ Epoch 4 ]\n"
     ]
    },
    {
     "name": "stderr",
     "output_type": "stream",
     "text": [
      "  - (Validation) : 0it [00:00, ?it/s]      "
     ]
    },
    {
     "name": "stdout",
     "output_type": "stream",
     "text": [
      "  - (Training)   ppl:  4.61341, accuracy: 66.752 %, elapse: 0.962 min\n"
     ]
    },
    {
     "name": "stderr",
     "output_type": "stream",
     "text": [
      "                                     \r"
     ]
    },
    {
     "name": "stdout",
     "output_type": "stream",
     "text": [
      "  - (Validation) ppl:  5.37613, accuracy: 66.777 %, elapse: 0.008 min\n"
     ]
    },
    {
     "name": "stderr",
     "output_type": "stream",
     "text": [
      "  - (Training)   : 0it [00:00, ?it/s]"
     ]
    },
    {
     "name": "stdout",
     "output_type": "stream",
     "text": [
      "    - [Info] The checkpoint file has been updated.\n",
      "{'Train. Loss': 1.5289667063567163, 'Train. Acc': 0.6675215178639248, 'Valid. Loss': 1.6819690139387733, 'Valid. Acc': 0.6677703574835849}\n",
      "[ Epoch 5 ]\n"
     ]
    },
    {
     "name": "stderr",
     "output_type": "stream",
     "text": [
      "  - (Validation) : 0it [00:00, ?it/s]      "
     ]
    },
    {
     "name": "stdout",
     "output_type": "stream",
     "text": [
      "  - (Training)   ppl:  4.00371, accuracy: 68.657 %, elapse: 0.847 min\n"
     ]
    },
    {
     "name": "stderr",
     "output_type": "stream",
     "text": [
      "                                     \r"
     ]
    },
    {
     "name": "stdout",
     "output_type": "stream",
     "text": [
      "  - (Validation) ppl:  5.25751, accuracy: 67.147 %, elapse: 0.007 min\n"
     ]
    },
    {
     "name": "stderr",
     "output_type": "stream",
     "text": [
      "  - (Training)   : 0it [00:00, ?it/s]"
     ]
    },
    {
     "name": "stdout",
     "output_type": "stream",
     "text": [
      "    - [Info] The checkpoint file has been updated.\n",
      "{'Train. Loss': 1.38722032794988, 'Train. Acc': 0.6865747718286886, 'Valid. Loss': 1.6596583505492732, 'Valid. Acc': 0.6714742690386666}\n",
      "[ Epoch 6 ]\n"
     ]
    },
    {
     "name": "stderr",
     "output_type": "stream",
     "text": [
      "  - (Validation) : 0it [00:00, ?it/s]      "
     ]
    },
    {
     "name": "stdout",
     "output_type": "stream",
     "text": [
      "  - (Training)   ppl:  3.56403, accuracy: 70.390 %, elapse: 0.812 min\n"
     ]
    },
    {
     "name": "stderr",
     "output_type": "stream",
     "text": [
      "                                     \r"
     ]
    },
    {
     "name": "stdout",
     "output_type": "stream",
     "text": [
      "  - (Validation) ppl:  5.10627, accuracy: 68.214 %, elapse: 0.007 min\n"
     ]
    },
    {
     "name": "stderr",
     "output_type": "stream",
     "text": [
      "  - (Training)   : 0it [00:00, ?it/s]"
     ]
    },
    {
     "name": "stdout",
     "output_type": "stream",
     "text": [
      "    - [Info] The checkpoint file has been updated.\n",
      "{'Train. Loss': 1.2708925901143318, 'Train. Acc': 0.7038970020908207, 'Valid. Loss': 1.6304697008591602, 'Valid. Acc': 0.682137044727538}\n",
      "[ Epoch 7 ]\n"
     ]
    },
    {
     "name": "stderr",
     "output_type": "stream",
     "text": [
      "  - (Validation) : 0it [00:00, ?it/s]      "
     ]
    },
    {
     "name": "stdout",
     "output_type": "stream",
     "text": [
      "  - (Training)   ppl:  3.22899, accuracy: 71.868 %, elapse: 0.817 min\n"
     ]
    },
    {
     "name": "stderr",
     "output_type": "stream",
     "text": [
      "                                     \r"
     ]
    },
    {
     "name": "stdout",
     "output_type": "stream",
     "text": [
      "  - (Validation) ppl:  5.04554, accuracy: 68.410 %, elapse: 0.007 min\n"
     ]
    },
    {
     "name": "stderr",
     "output_type": "stream",
     "text": [
      "  - (Training)   : 0it [00:00, ?it/s]"
     ]
    },
    {
     "name": "stdout",
     "output_type": "stream",
     "text": [
      "    - [Info] The checkpoint file has been updated.\n",
      "{'Train. Loss': 1.1721685106074784, 'Train. Acc': 0.7186826629780804, 'Valid. Loss': 1.6185051832237096, 'Valid. Acc': 0.6841012402491722}\n",
      "[ Epoch 8 ]\n"
     ]
    },
    {
     "name": "stderr",
     "output_type": "stream",
     "text": [
      "  - (Validation) : 0it [00:00, ?it/s]      "
     ]
    },
    {
     "name": "stdout",
     "output_type": "stream",
     "text": [
      "  - (Training)   ppl:  2.97178, accuracy: 73.201 %, elapse: 0.898 min\n"
     ]
    },
    {
     "name": "stderr",
     "output_type": "stream",
     "text": [
      "                                     \r"
     ]
    },
    {
     "name": "stdout",
     "output_type": "stream",
     "text": [
      "  - (Validation) ppl:  5.01940, accuracy: 68.663 %, elapse: 0.009 min\n"
     ]
    },
    {
     "name": "stderr",
     "output_type": "stream",
     "text": [
      "  - (Training)   : 0it [00:00, ?it/s]"
     ]
    },
    {
     "name": "stdout",
     "output_type": "stream",
     "text": [
      "    - [Info] The checkpoint file has been updated.\n",
      "{'Train. Loss': 1.089161211672808, 'Train. Acc': 0.7320071479685457, 'Valid. Loss': 1.6133102792917233, 'Valid. Acc': 0.6866266344912734}\n",
      "[ Epoch 9 ]\n"
     ]
    },
    {
     "name": "stderr",
     "output_type": "stream",
     "text": [
      "  - (Validation) : 0it [00:00, ?it/s]      "
     ]
    },
    {
     "name": "stdout",
     "output_type": "stream",
     "text": [
      "  - (Training)   ppl:  2.75896, accuracy: 74.443 %, elapse: 0.896 min\n"
     ]
    },
    {
     "name": "stderr",
     "output_type": "stream",
     "text": [
      "  - (Training)   : 0it [00:00, ?it/s]"
     ]
    },
    {
     "name": "stdout",
     "output_type": "stream",
     "text": [
      "  - (Validation) ppl:  5.03313, accuracy: 68.949 %, elapse: 0.007 min\n",
      "{'Train. Loss': 1.0148548620311544, 'Train. Acc': 0.7444261436549786, 'Valid. Loss': 1.616042173700211, 'Valid. Acc': 0.6894887479656546}\n",
      "[ Epoch 10 ]\n"
     ]
    },
    {
     "name": "stderr",
     "output_type": "stream",
     "text": [
      "  - (Validation) : 0it [00:00, ?it/s]      "
     ]
    },
    {
     "name": "stdout",
     "output_type": "stream",
     "text": [
      "  - (Training)   ppl:  2.58698, accuracy: 75.530 %, elapse: 0.846 min\n"
     ]
    },
    {
     "name": "stderr",
     "output_type": "stream",
     "text": [
      "  - (Training)   : 0it [00:00, ?it/s]"
     ]
    },
    {
     "name": "stdout",
     "output_type": "stream",
     "text": [
      "  - (Validation) ppl:  5.14283, accuracy: 68.887 %, elapse: 0.008 min\n",
      "{'Train. Loss': 0.9504909441493699, 'Train. Acc': 0.7553040085391839, 'Valid. Loss': 1.6376031586280795, 'Valid. Acc': 0.688871429373141}\n",
      "[ Epoch 11 ]\n"
     ]
    },
    {
     "name": "stderr",
     "output_type": "stream",
     "text": [
      "  - (Validation) : 0it [00:00, ?it/s]      "
     ]
    },
    {
     "name": "stdout",
     "output_type": "stream",
     "text": [
      "  - (Training)   ppl:  2.44205, accuracy: 76.622 %, elapse: 0.922 min\n"
     ]
    },
    {
     "name": "stderr",
     "output_type": "stream",
     "text": [
      "  - (Training)   : 0it [00:00, ?it/s]"
     ]
    },
    {
     "name": "stdout",
     "output_type": "stream",
     "text": [
      "  - (Validation) ppl:  5.13828, accuracy: 69.072 %, elapse: 0.008 min\n",
      "{'Train. Loss': 0.8928394349271093, 'Train. Acc': 0.7662158542581984, 'Valid. Loss': 1.6367179210809915, 'Valid. Acc': 0.6907233851506819}\n",
      "[ Epoch 12 ]\n"
     ]
    },
    {
     "name": "stderr",
     "output_type": "stream",
     "text": [
      "  - (Validation) : 0it [00:00, ?it/s]      "
     ]
    },
    {
     "name": "stdout",
     "output_type": "stream",
     "text": [
      "  - (Training)   ppl:  2.31903, accuracy: 77.540 %, elapse: 0.935 min\n"
     ]
    },
    {
     "name": "stderr",
     "output_type": "stream",
     "text": [
      "  - (Training)   : 0it [00:00, ?it/s]"
     ]
    },
    {
     "name": "stdout",
     "output_type": "stream",
     "text": [
      "  - (Validation) ppl:  5.23968, accuracy: 69.263 %, elapse: 0.008 min\n",
      "{'Train. Loss': 0.8411496049894851, 'Train. Acc': 0.7753986751472169, 'Valid. Loss': 1.6562601902233482, 'Valid. Acc': 0.6926314608002694}\n",
      "[ Epoch 13 ]\n"
     ]
    },
    {
     "name": "stderr",
     "output_type": "stream",
     "text": [
      "  - (Validation) : 0it [00:00, ?it/s]      "
     ]
    },
    {
     "name": "stdout",
     "output_type": "stream",
     "text": [
      "  - (Training)   ppl:  2.21889, accuracy: 78.387 %, elapse: 0.777 min\n"
     ]
    },
    {
     "name": "stderr",
     "output_type": "stream",
     "text": [
      "  - (Training)   : 0it [00:00, ?it/s]"
     ]
    },
    {
     "name": "stdout",
     "output_type": "stream",
     "text": [
      "  - (Validation) ppl:  5.29318, accuracy: 69.151 %, elapse: 0.007 min\n",
      "{'Train. Loss': 0.7970064172594499, 'Train. Acc': 0.7838718962505147, 'Valid. Loss': 1.6664191612698787, 'Valid. Acc': 0.6915090633593356}\n",
      "[ Epoch 14 ]\n"
     ]
    },
    {
     "name": "stderr",
     "output_type": "stream",
     "text": [
      "  - (Validation) : 0it [00:00, ?it/s]      "
     ]
    },
    {
     "name": "stdout",
     "output_type": "stream",
     "text": [
      "  - (Training)   ppl:  2.12741, accuracy: 79.261 %, elapse: 0.817 min\n"
     ]
    },
    {
     "name": "stderr",
     "output_type": "stream",
     "text": [
      "  - (Training)   : 0it [00:00, ?it/s]"
     ]
    },
    {
     "name": "stdout",
     "output_type": "stream",
     "text": [
      "  - (Validation) ppl:  5.40635, accuracy: 69.448 %, elapse: 0.007 min\n",
      "{'Train. Loss': 0.7549058457433816, 'Train. Acc': 0.7926069696691066, 'Valid. Loss': 1.6875737429641902, 'Valid. Acc': 0.6944834165778102}\n",
      "[ Epoch 15 ]\n"
     ]
    },
    {
     "name": "stderr",
     "output_type": "stream",
     "text": [
      "  - (Validation) : 0it [00:00, ?it/s]      "
     ]
    },
    {
     "name": "stdout",
     "output_type": "stream",
     "text": [
      "  - (Training)   ppl:  2.04907, accuracy: 80.033 %, elapse: 0.825 min\n"
     ]
    },
    {
     "name": "stderr",
     "output_type": "stream",
     "text": [
      "  - (Training)   : 0it [00:00, ?it/s]"
     ]
    },
    {
     "name": "stdout",
     "output_type": "stream",
     "text": [
      "  - (Validation) ppl:  5.53416, accuracy: 69.415 %, elapse: 0.008 min\n",
      "{'Train. Loss': 0.7173864101779409, 'Train. Acc': 0.8003306135339668, 'Valid. Loss': 1.7109399182513223, 'Valid. Acc': 0.69414669734553}\n",
      "[ Epoch 16 ]\n"
     ]
    },
    {
     "name": "stderr",
     "output_type": "stream",
     "text": [
      "  - (Validation) : 0it [00:00, ?it/s]      "
     ]
    },
    {
     "name": "stdout",
     "output_type": "stream",
     "text": [
      "  - (Training)   ppl:  1.98189, accuracy: 80.702 %, elapse: 0.869 min\n"
     ]
    },
    {
     "name": "stderr",
     "output_type": "stream",
     "text": [
      "  - (Training)   : 0it [00:00, ?it/s]"
     ]
    },
    {
     "name": "stdout",
     "output_type": "stream",
     "text": [
      "  - (Validation) ppl:  5.63752, accuracy: 69.106 %, elapse: 0.007 min\n",
      "{'Train. Loss': 0.6840494621860908, 'Train. Acc': 0.8070248379913728, 'Valid. Loss': 1.7294447849786831, 'Valid. Acc': 0.6910601043829621}\n",
      "[ Epoch 17 ]\n"
     ]
    },
    {
     "name": "stderr",
     "output_type": "stream",
     "text": [
      "  - (Validation) : 0it [00:00, ?it/s]      "
     ]
    },
    {
     "name": "stdout",
     "output_type": "stream",
     "text": [
      "  - (Training)   ppl:  1.91898, accuracy: 81.383 %, elapse: 0.770 min\n"
     ]
    },
    {
     "name": "stderr",
     "output_type": "stream",
     "text": [
      "  - (Training)   : 0it [00:00, ?it/s]"
     ]
    },
    {
     "name": "stdout",
     "output_type": "stream",
     "text": [
      "  - (Validation) ppl:  5.72480, accuracy: 69.016 %, elapse: 0.007 min\n",
      "{'Train. Loss': 0.6517945185372969, 'Train. Acc': 0.8138309993163856, 'Valid. Loss': 1.7448077643651527, 'Valid. Acc': 0.690162186430215}\n",
      "[ Epoch 18 ]\n"
     ]
    },
    {
     "name": "stderr",
     "output_type": "stream",
     "text": [
      "  - (Validation) : 0it [00:00, ?it/s]      "
     ]
    },
    {
     "name": "stdout",
     "output_type": "stream",
     "text": [
      "  - (Training)   ppl:  1.86832, accuracy: 82.017 %, elapse: 0.823 min\n"
     ]
    },
    {
     "name": "stderr",
     "output_type": "stream",
     "text": [
      "  - (Training)   : 0it [00:00, ?it/s]"
     ]
    },
    {
     "name": "stdout",
     "output_type": "stream",
     "text": [
      "  - (Validation) ppl:  5.93139, accuracy: 69.448 %, elapse: 0.008 min\n",
      "{'Train. Loss': 0.6250421305200029, 'Train. Acc': 0.8201734221898849, 'Valid. Loss': 1.7802584484521438, 'Valid. Acc': 0.6944834165778102}\n",
      "[ Epoch 19 ]\n"
     ]
    },
    {
     "name": "stderr",
     "output_type": "stream",
     "text": [
      "  - (Validation) : 0it [00:00, ?it/s]      "
     ]
    },
    {
     "name": "stdout",
     "output_type": "stream",
     "text": [
      "  - (Training)   ppl:  1.82082, accuracy: 82.564 %, elapse: 0.905 min\n"
     ]
    },
    {
     "name": "stderr",
     "output_type": "stream",
     "text": [
      "  - (Training)   : 0it [00:00, ?it/s]"
     ]
    },
    {
     "name": "stdout",
     "output_type": "stream",
     "text": [
      "  - (Validation) ppl:  5.96030, accuracy: 69.185 %, elapse: 0.007 min\n",
      "{'Train. Loss': 0.5992854681906427, 'Train. Acc': 0.8256403388488892, 'Valid. Loss': 1.7851216272176118, 'Valid. Acc': 0.6918457825916157}\n",
      "[ Epoch 20 ]\n"
     ]
    },
    {
     "name": "stderr",
     "output_type": "stream",
     "text": [
      "  - (Validation) : 0it [00:00, ?it/s]      "
     ]
    },
    {
     "name": "stdout",
     "output_type": "stream",
     "text": [
      "  - (Training)   ppl:  1.77904, accuracy: 83.143 %, elapse: 0.857 min\n"
     ]
    },
    {
     "name": "stderr",
     "output_type": "stream",
     "text": [
      "  - (Training)   : 0it [00:00, ?it/s]"
     ]
    },
    {
     "name": "stdout",
     "output_type": "stream",
     "text": [
      "  - (Validation) ppl:  6.01675, accuracy: 69.808 %, elapse: 0.007 min\n",
      "{'Train. Loss': 0.5760764782117476, 'Train. Acc': 0.8314330717475343, 'Valid. Loss': 1.7945464568959923, 'Valid. Acc': 0.6980750883887985}\n",
      "[ Epoch 21 ]\n"
     ]
    },
    {
     "name": "stderr",
     "output_type": "stream",
     "text": [
      "  - (Validation) : 0it [00:00, ?it/s]      "
     ]
    },
    {
     "name": "stdout",
     "output_type": "stream",
     "text": [
      "  - (Training)   ppl:  1.73833, accuracy: 83.695 %, elapse: 0.944 min\n"
     ]
    },
    {
     "name": "stderr",
     "output_type": "stream",
     "text": [
      "  - (Training)   : 0it [00:00, ?it/s]"
     ]
    },
    {
     "name": "stdout",
     "output_type": "stream",
     "text": [
      "  - (Validation) ppl:  6.23478, accuracy: 69.600 %, elapse: 0.008 min\n",
      "{'Train. Loss': 0.55292311704497, 'Train. Acc': 0.8369499602224345, 'Valid. Loss': 1.8301430821077571, 'Valid. Acc': 0.6959986531230709}\n",
      "[ Epoch 22 ]\n"
     ]
    },
    {
     "name": "stderr",
     "output_type": "stream",
     "text": [
      "  - (Validation) : 0it [00:00, ?it/s]      "
     ]
    },
    {
     "name": "stdout",
     "output_type": "stream",
     "text": [
      "  - (Training)   ppl:  1.70641, accuracy: 84.135 %, elapse: 0.823 min\n"
     ]
    },
    {
     "name": "stderr",
     "output_type": "stream",
     "text": [
      "  - (Training)   : 0it [00:00, ?it/s]"
     ]
    },
    {
     "name": "stdout",
     "output_type": "stream",
     "text": [
      "  - (Validation) ppl:  6.31191, accuracy: 69.729 %, elapse: 0.007 min\n",
      "{'Train. Loss': 0.5343936073155326, 'Train. Acc': 0.8413514777665396, 'Valid. Loss': 1.8424383761057368, 'Valid. Acc': 0.6972894101801448}\n",
      "[ Epoch 23 ]\n"
     ]
    },
    {
     "name": "stderr",
     "output_type": "stream",
     "text": [
      "  - (Validation) : 0it [00:00, ?it/s]      "
     ]
    },
    {
     "name": "stdout",
     "output_type": "stream",
     "text": [
      "  - (Training)   ppl:  1.66975, accuracy: 84.651 %, elapse: 0.786 min\n"
     ]
    },
    {
     "name": "stderr",
     "output_type": "stream",
     "text": [
      "  - (Training)   : 0it [00:00, ?it/s]"
     ]
    },
    {
     "name": "stdout",
     "output_type": "stream",
     "text": [
      "  - (Validation) ppl:  6.47270, accuracy: 69.521 %, elapse: 0.008 min\n",
      "{'Train. Loss': 0.512676241613829, 'Train. Acc': 0.8465125669122615, 'Valid. Loss': 1.8675931154179704, 'Valid. Acc': 0.6952129749144172}\n",
      "[ Epoch 24 ]\n"
     ]
    },
    {
     "name": "stderr",
     "output_type": "stream",
     "text": [
      "  - (Validation) : 0it [00:00, ?it/s]      "
     ]
    },
    {
     "name": "stdout",
     "output_type": "stream",
     "text": [
      "  - (Training)   ppl:  1.64304, accuracy: 85.054 %, elapse: 0.873 min\n"
     ]
    },
    {
     "name": "stderr",
     "output_type": "stream",
     "text": [
      "  - (Training)   : 0it [00:00, ?it/s]"
     ]
    },
    {
     "name": "stdout",
     "output_type": "stream",
     "text": [
      "  - (Validation) ppl:  6.61454, accuracy: 69.622 %, elapse: 0.009 min\n",
      "{'Train. Loss': 0.49654803707127637, 'Train. Acc': 0.8505442930187375, 'Valid. Loss': 1.889270755282502, 'Valid. Acc': 0.6962231326112577}\n",
      "[ Epoch 25 ]\n"
     ]
    },
    {
     "name": "stderr",
     "output_type": "stream",
     "text": [
      "  - (Validation) : 0it [00:00, ?it/s]      "
     ]
    },
    {
     "name": "stdout",
     "output_type": "stream",
     "text": [
      "  - (Training)   ppl:  1.61372, accuracy: 85.502 %, elapse: 1.025 min\n"
     ]
    },
    {
     "name": "stderr",
     "output_type": "stream",
     "text": [
      "  - (Training)   : 0it [00:00, ?it/s]"
     ]
    },
    {
     "name": "stdout",
     "output_type": "stream",
     "text": [
      "  - (Validation) ppl:  6.57244, accuracy: 69.903 %, elapse: 0.008 min\n",
      "{'Train. Loss': 0.478544198621416, 'Train. Acc': 0.8550197688503683, 'Valid. Loss': 1.8828849139535486, 'Valid. Acc': 0.6990291262135923}\n",
      "[ Epoch 26 ]\n"
     ]
    },
    {
     "name": "stderr",
     "output_type": "stream",
     "text": [
      "  - (Validation) : 0it [00:00, ?it/s]      "
     ]
    },
    {
     "name": "stdout",
     "output_type": "stream",
     "text": [
      "  - (Training)   ppl:  1.58842, accuracy: 85.862 %, elapse: 0.949 min\n"
     ]
    },
    {
     "name": "stderr",
     "output_type": "stream",
     "text": [
      "  - (Training)   : 0it [00:00, ?it/s]"
     ]
    },
    {
     "name": "stdout",
     "output_type": "stream",
     "text": [
      "  - (Validation) ppl:  6.81038, accuracy: 69.656 %, elapse: 0.008 min\n",
      "{'Train. Loss': 0.4627386099064347, 'Train. Acc': 0.8586217373401401, 'Valid. Loss': 1.918448635876075, 'Valid. Acc': 0.6965598518435377}\n",
      "[ Epoch 27 ]\n"
     ]
    },
    {
     "name": "stderr",
     "output_type": "stream",
     "text": [
      "  - (Validation) : 0it [00:00, ?it/s]      "
     ]
    },
    {
     "name": "stdout",
     "output_type": "stream",
     "text": [
      "  - (Training)   ppl:  1.56544, accuracy: 86.276 %, elapse: 0.923 min\n"
     ]
    },
    {
     "name": "stderr",
     "output_type": "stream",
     "text": [
      "  - (Training)   : 0it [00:00, ?it/s]"
     ]
    },
    {
     "name": "stdout",
     "output_type": "stream",
     "text": [
      "  - (Validation) ppl:  6.91990, accuracy: 69.420 %, elapse: 0.007 min\n",
      "{'Train. Loss': 0.44816915450237826, 'Train. Acc': 0.8627574048236795, 'Valid. Loss': 1.9344015144473596, 'Valid. Acc': 0.6942028172175767}\n",
      "[ Epoch 28 ]\n"
     ]
    },
    {
     "name": "stderr",
     "output_type": "stream",
     "text": [
      "  - (Validation) : 0it [00:00, ?it/s]      "
     ]
    },
    {
     "name": "stdout",
     "output_type": "stream",
     "text": [
      "  - (Training)   ppl:  1.54567, accuracy: 86.648 %, elapse: 1.000 min\n"
     ]
    },
    {
     "name": "stderr",
     "output_type": "stream",
     "text": [
      "  - (Training)   : 0it [00:00, ?it/s]"
     ]
    },
    {
     "name": "stdout",
     "output_type": "stream",
     "text": [
      "  - (Validation) ppl:  6.98789, accuracy: 69.757 %, elapse: 0.007 min\n",
      "{'Train. Loss': 0.4354544243345581, 'Train. Acc': 0.8664793056716013, 'Valid. Loss': 1.9441785490722245, 'Valid. Acc': 0.6975700095403783}\n",
      "[ Epoch 29 ]\n"
     ]
    },
    {
     "name": "stderr",
     "output_type": "stream",
     "text": [
      "  - (Validation) : 0it [00:00, ?it/s]      "
     ]
    },
    {
     "name": "stdout",
     "output_type": "stream",
     "text": [
      "  - (Training)   ppl:  1.52471, accuracy: 86.983 %, elapse: 0.872 min\n"
     ]
    },
    {
     "name": "stderr",
     "output_type": "stream",
     "text": [
      "                                     "
     ]
    },
    {
     "name": "stdout",
     "output_type": "stream",
     "text": [
      "  - (Validation) ppl:  7.13042, accuracy: 69.701 %, elapse: 0.007 min\n",
      "{'Train. Loss': 0.4218043732914104, 'Train. Acc': 0.8698254184639863, 'Valid. Loss': 1.9643699029016604, 'Valid. Acc': 0.6970088108199113}\n"
     ]
    },
    {
     "name": "stderr",
     "output_type": "stream",
     "text": [
      "\r"
     ]
    }
   ],
   "source": [
    "valid_losses = []\n",
    "model_path = \"results/model_hard_c.chkpt\"\n",
    "for epoch_i in range(num_epochs):\n",
    "    print('[ Epoch', epoch_i, ']')\n",
    "\n",
    "    start = time.time()\n",
    "    train_loss, train_accu = train_epoch(model, train_dataloader, optimizer, scheduler, device)\n",
    "    print_performances('Training', train_loss, train_accu, start)\n",
    "\n",
    "    start = time.time()\n",
    "    valid_loss, valid_accu = eval_epoch(model, valid_dataloader, device)\n",
    "    print_performances('Validation', valid_loss, valid_accu, start)\n",
    "    valid_losses += [valid_loss]\n",
    "    checkpoint = {'epoch': epoch_i, 'settings': model_args, 'state_dict': model.state_dict(), \"optimizer\": optimizer.state_dict()}\n",
    "    \n",
    "    if valid_loss <= min(valid_losses):\n",
    "        torch.save(checkpoint, model_path)\n",
    "        print('    - [Info] The checkpoint file has been updated.')\n",
    "    metrics = {\n",
    "                'Train. Loss':train_loss,\n",
    "                'Train. Acc':train_accu,\n",
    "                'Valid. Loss': valid_loss,\n",
    "                'Valid. Acc':valid_accu\n",
    "                \n",
    "    }\n",
    "    print(metrics)\n",
    "    num_step = int(epoch_i) + 1\n",
    "    experiment.log_metrics(metrics, step=num_step)"
   ]
  },
  {
   "cell_type": "code",
   "execution_count": 12,
   "metadata": {},
   "outputs": [
    {
     "name": "stdout",
     "output_type": "stream",
     "text": [
      "[Info] Trained model state loaded.\n"
     ]
    }
   ],
   "source": [
    "checkpoint = torch.load(model_path, map_location=device)\n",
    "model = load_model(checkpoint, device)"
   ]
  },
  {
   "cell_type": "code",
   "execution_count": 13,
   "metadata": {},
   "outputs": [
    {
     "name": "stderr",
     "output_type": "stream",
     "text": [
      "10it [00:02,  4.66it/s]"
     ]
    },
    {
     "name": "stdout",
     "output_type": "stream",
     "text": [
      "Bleu score 33.42\n"
     ]
    },
    {
     "name": "stderr",
     "output_type": "stream",
     "text": [
      "\n"
     ]
    }
   ],
   "source": [
    "score = bleu_fromdatalist(test_X[:10], test_Y[:10], model, sp, device)\n",
    "print(f\"Bleu score {score * 100:.2f}\")"
   ]
  },
  {
   "cell_type": "code",
   "execution_count": null,
   "metadata": {},
   "outputs": [],
   "source": []
  }
 ],
 "metadata": {
  "kernelspec": {
   "display_name": "Python 3",
   "language": "python",
   "name": "python3"
  },
  "language_info": {
   "codemirror_mode": {
    "name": "ipython",
    "version": 3
   },
   "file_extension": ".py",
   "mimetype": "text/x-python",
   "name": "python",
   "nbconvert_exporter": "python",
   "pygments_lexer": "ipython3",
   "version": "3.7.4"
  }
 },
 "nbformat": 4,
 "nbformat_minor": 4
}
